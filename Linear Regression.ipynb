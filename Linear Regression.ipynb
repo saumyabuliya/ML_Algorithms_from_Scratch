{
 "cells": [
  {
   "cell_type": "markdown",
   "id": "aea05637",
   "metadata": {},
   "source": [
    "# Linear Regression from Scratch"
   ]
  },
  {
   "cell_type": "code",
   "execution_count": 84,
   "id": "ab9c7e02",
   "metadata": {},
   "outputs": [],
   "source": [
    "# Importing Libraries\n",
    "\n",
    "import numpy as np\n",
    "from sklearn.model_selection import train_test_split\n",
    "from scipy import optimize\n",
    "from sklearn.linear_model import LinearRegression\n",
    "from sklearn.metrics import r2_score"
   ]
  },
  {
   "cell_type": "markdown",
   "id": "77b347b9",
   "metadata": {},
   "source": [
    "true_theta = [0.5,0.3,0.2]\n",
    "y= 0.5 + 0.3X1 +0.2X2\n",
    "x = [1,0.1,0.4]\n",
    "\n",
    "y = wTx  [0.5 0.3 0.2] transpose([1 0.1 0.4])\n",
    "\n",
    "(0.5*1) + (0.3*0.1) +(0.2*0.4)   \n",
    "\n",
    "we explicitly add a column of ones to account for the intercept term."
   ]
  },
  {
   "cell_type": "markdown",
   "id": "3224990c",
   "metadata": {},
   "source": [
    "**intercept :** it is the value of the ordinate (y-axis) when the abscissa(x-axis) is 0. The presence of an intercept allows you to translate the line along the y axis."
   ]
  },
  {
   "cell_type": "code",
   "execution_count": 87,
   "id": "5ff5b07a",
   "metadata": {},
   "outputs": [],
   "source": [
    "# Creating Data\n",
    "\n",
    "true_thetas = np.array([0.5,0.2,0.3])    #intercept,theta 1, theta 2 (plane)   - data will lie on that plane.\n",
    "x = np.random.normal(0,1,size = (500,2))      #first argument is mean of normal distribution and second argument is standard deviation\n",
    "noise = np.random.normal(0,0.05,size = (500,1))    #creating noise\n"
   ]
  },
  {
   "cell_type": "code",
   "execution_count": 88,
   "id": "1cc3eb7e",
   "metadata": {},
   "outputs": [
    {
     "name": "stdout",
     "output_type": "stream",
     "text": [
      "(500, 1)\n"
     ]
    },
    {
     "data": {
      "text/plain": [
       "(500, 3)"
      ]
     },
     "execution_count": 88,
     "metadata": {},
     "output_type": "execute_result"
    }
   ],
   "source": [
    "# Appending a column of Ones to x\n",
    "\n",
    "ones = [1] *500        # it will create vector of one of length 500\n",
    "ones = np.array(ones)\n",
    "ones = ones[:,np.newaxis]      #converting a 0-d array to 1-d array with one column.\n",
    "print(ones.shape)\n",
    "data = np.append(ones,x,axis = 1)    #appending vector one to x vector so that ones column comes first\n",
    "data.shape"
   ]
  },
  {
   "cell_type": "code",
   "execution_count": 89,
   "id": "b0855b2c",
   "metadata": {},
   "outputs": [
    {
     "name": "stdout",
     "output_type": "stream",
     "text": [
      "[[ 1.          1.61780543  0.4585674 ]\n",
      " [ 1.         -1.27813273 -0.397673  ]\n",
      " [ 1.         -1.11630502 -0.35851529]\n",
      " ...\n",
      " [ 1.         -0.42871946  0.26738871]\n",
      " [ 1.          0.6636005   0.36007049]\n",
      " [ 1.          0.23589036  0.10000402]]\n"
     ]
    }
   ],
   "source": [
    "print(data)"
   ]
  },
  {
   "cell_type": "code",
   "execution_count": 90,
   "id": "95ea70aa",
   "metadata": {},
   "outputs": [
    {
     "data": {
      "text/plain": [
       "(500, 1)"
      ]
     },
     "execution_count": 90,
     "metadata": {},
     "output_type": "execute_result"
    }
   ],
   "source": [
    "noise.shape"
   ]
  },
  {
   "cell_type": "markdown",
   "id": "0bea2f9d",
   "metadata": {},
   "source": [
    " **Creating the Target Variable**"
   ]
  },
  {
   "cell_type": "code",
   "execution_count": 91,
   "id": "37f62443",
   "metadata": {},
   "outputs": [
    {
     "name": "stdout",
     "output_type": "stream",
     "text": [
      "(500, 1)\n"
     ]
    }
   ],
   "source": [
    "y = np.dot(data,true_thetas.T)[:,np.newaxis] +noise \n",
    "print(y.shape)"
   ]
  },
  {
   "cell_type": "markdown",
   "id": "92d585a3",
   "metadata": {},
   "source": [
    "**Aim :** given the data, what are the values of the parameters that result in the minimum sum of errors.(known as fitting)\n",
    "we need training and testing data."
   ]
  },
  {
   "cell_type": "code",
   "execution_count": 93,
   "id": "a51d3ee6",
   "metadata": {},
   "outputs": [],
   "source": [
    "x_train,x_test,y_train,y_test = train_test_split(data,y,test_size=0.2,random_state=0)\n",
    "\n",
    "#it splits the data randomly, random_state=0, we should get same splits everytime. \n",
    "#if we don't specify this, we will get random splits everytime and the performance of our model will vary.\n"
   ]
  },
  {
   "cell_type": "code",
   "execution_count": 94,
   "id": "2a885ae8",
   "metadata": {},
   "outputs": [
    {
     "name": "stdout",
     "output_type": "stream",
     "text": [
      "(400, 3)\n",
      "(100, 3)\n",
      "(400, 1)\n",
      "(100, 1)\n"
     ]
    }
   ],
   "source": [
    "print(x_train.shape)\n",
    "print(x_test.shape)\n",
    "print(y_train.shape)\n",
    "print(y_test.shape)"
   ]
  },
  {
   "cell_type": "code",
   "execution_count": 95,
   "id": "2028cd93",
   "metadata": {},
   "outputs": [],
   "source": [
    "def cost(weights,x,y):\n",
    "    residual = y-np.dot(x,weights.T)[:,np.newaxis]\n",
    "    return residual.ravel()"
   ]
  },
  {
   "cell_type": "markdown",
   "id": "10b4ab4a",
   "metadata": {},
   "source": [
    "**residual :** is the amount of error made by the model for that particular point (y-prediction).\n",
    "\n",
    "**ravel :** we need to ravel the residuals because the least squares method expects a zero dimensional array and np.dot gives a 1-d array."
   ]
  },
  {
   "cell_type": "markdown",
   "id": "c33247dd",
   "metadata": {},
   "source": [
    "## Finding the right parameters by minimizing the sum of square of errors(residuals)"
   ]
  },
  {
   "cell_type": "code",
   "execution_count": 96,
   "id": "6f17b448",
   "metadata": {},
   "outputs": [
    {
     "name": "stdout",
     "output_type": "stream",
     "text": [
      "[0.50529743 0.19854395 0.29835565]\n"
     ]
    }
   ],
   "source": [
    "initial_weights =  [1,1,1]  # parameters - intercept,theta1,theta2\n",
    "kwargs = {'x': x_train,'y':y_train}\n",
    "results = optimize.least_squares(cost,initial_weights,kwargs=kwargs)         #kwargs=kwargs   for the third argument\n",
    "\n",
    "#when the third argument argument of this function is solver since we did not specify kwargs=kwargs, the function assumes that \n",
    "#we passed kwargs as a solver which is incorrect.\n",
    "\n",
    "print(results.x)   #values of the parameters which minimize the error. values obtained from the data."
   ]
  },
  {
   "cell_type": "code",
   "execution_count": 98,
   "id": "c839a04a",
   "metadata": {},
   "outputs": [
    {
     "name": "stdout",
     "output_type": "stream",
     "text": [
      "[0.5 0.2 0.3]\n"
     ]
    }
   ],
   "source": [
    "print(true_thetas)     # Actual value of the parameters."
   ]
  },
  {
   "cell_type": "markdown",
   "id": "71bbeaab",
   "metadata": {},
   "source": [
    "**The predicted parameter values is very close to the true values because our data was generated using the true values. \n",
    "Generally, we do not know the true parameter values used to generate the data. Therefore,the task of fitting the model referes to estimating the true values used to generate the data.**"
   ]
  },
  {
   "cell_type": "code",
   "execution_count": 99,
   "id": "083834dc",
   "metadata": {},
   "outputs": [],
   "source": [
    "# Obtaining predictions from the fitted parameters for the training data\n",
    "\n",
    "fitted_parameters = np.array(results.x).reshape(3,1)    #because we have 3 parameters\n",
    "y_pred = np.dot(x_train,fitted_parameters)\n"
   ]
  },
  {
   "cell_type": "code",
   "execution_count": 100,
   "id": "6a637da0",
   "metadata": {},
   "outputs": [
    {
     "name": "stdout",
     "output_type": "stream",
     "text": [
      " R-squared score on training data : 0.9810086724775429\n"
     ]
    }
   ],
   "source": [
    "print(f' R-squared score on training data : {r2_score(y_train,y_pred)}')           "
   ]
  },
  {
   "cell_type": "code",
   "execution_count": 101,
   "id": "700362a6",
   "metadata": {},
   "outputs": [],
   "source": [
    "# Predictions for test data :\n",
    "\n",
    "y_pred_test = np.dot(x_test,fitted_parameters)"
   ]
  },
  {
   "cell_type": "code",
   "execution_count": 102,
   "id": "183b833c",
   "metadata": {},
   "outputs": [
    {
     "name": "stdout",
     "output_type": "stream",
     "text": [
      " R-squared score obtained from custom implementation : 0.9853660448506618\n"
     ]
    }
   ],
   "source": [
    "print(f' R-squared score obtained from custom implementation : {r2_score(y_test,y_pred_test)}')"
   ]
  },
  {
   "cell_type": "markdown",
   "id": "e820debf",
   "metadata": {},
   "source": [
    "## Comparing the performance to the sklearn's inbuilt function : linear regressor"
   ]
  },
  {
   "cell_type": "code",
   "execution_count": 103,
   "id": "c65b2513",
   "metadata": {},
   "outputs": [],
   "source": [
    "lr = LinearRegression()     #you create the object of class linear regression\n",
    "lr.fit(x_train,y_train)     # parameters that minimize the error on training data\n",
    "ypred = lr.predict(x_test)  #using parameters derived from training, you made predictions on test set."
   ]
  },
  {
   "cell_type": "code",
   "execution_count": 104,
   "id": "a68e054b",
   "metadata": {},
   "outputs": [
    {
     "name": "stdout",
     "output_type": "stream",
     "text": [
      " R-squared score obtained from In-built function : 0.985366044850984\n"
     ]
    }
   ],
   "source": [
    "print(f' R-squared score obtained from In-built function : {r2_score(y_test,ypred)}')"
   ]
  }
 ],
 "metadata": {
  "kernelspec": {
   "display_name": "Python 3 (ipykernel)",
   "language": "python",
   "name": "python3"
  },
  "language_info": {
   "codemirror_mode": {
    "name": "ipython",
    "version": 3
   },
   "file_extension": ".py",
   "mimetype": "text/x-python",
   "name": "python",
   "nbconvert_exporter": "python",
   "pygments_lexer": "ipython3",
   "version": "3.11.4"
  }
 },
 "nbformat": 4,
 "nbformat_minor": 5
}
